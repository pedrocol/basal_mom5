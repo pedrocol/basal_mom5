{
 "cells": [
  {
   "cell_type": "code",
   "execution_count": null,
   "id": "300ab9a5-ec25-4615-aae3-a7e4a0fd415c",
   "metadata": {},
   "outputs": [],
   "source": [
    "%matplotlib inline\n",
    "\n",
    "import cosima_cookbook as cc\n",
    "import matplotlib.pyplot as plt\n",
    "import numpy as np\n",
    "import netCDF4 as nc\n",
    "import cartopy.crs as ccrs\n",
    "import xarray as xr\n",
    "import cmocean.cm as cmocean\n",
    "import glob\n",
    "import xgcm\n",
    "import xarray.ufuncs as xu\n",
    "\n",
    "import logging\n",
    "logging.captureWarnings(True)\n",
    "logging.getLogger('py.warnings').setLevel(logging.ERROR)\n",
    "\n",
    "from dask.distributed import Client\n"
   ]
  },
  {
   "cell_type": "code",
   "execution_count": null,
   "id": "893ccd7c-0f73-4ec8-b2cc-5074116a399f",
   "metadata": {},
   "outputs": [],
   "source": [
    "client = Client()\n",
    "client"
   ]
  },
  {
   "cell_type": "code",
   "execution_count": null,
   "id": "c5ddc272-8239-43a1-a0ef-02ec69e98d0b",
   "metadata": {},
   "outputs": [],
   "source": [
    "# database for control simulation:\n",
    "master_session = cc.database.create_session('/g/data/ik11/databases/cosima_master.db')\n",
    "control = '01deg_jra55v13_ryf9091'\n",
    "\n",
    "# database for perturbations:\n",
    "basal_session = cc.database.create_session('/g/data/v45/akm157/model_data/access-om2/01deg_jra55v13_ryf9091_easterlies_up10/easterlies.db')\n",
    "# 10% increase in easterly wind speed:\n",
    "easterlies_up = '01deg_jra55v13_ryf9091_easterlies_up10'\n",
    "# 10% decrease in easterly wind speed:\n",
    "easterlies_down = '01deg_jra55v13_ryf9091_easterlies_down10'\n",
    "\n",
    "# plot anomalies for last 5 years of simulation:\n",
    "start_time='2160-01-01'\n",
    "end_time='2164-12-31'\n",
    "\n",
    "lat_slice  = slice(-80,-58)"
   ]
  },
  {
   "cell_type": "code",
   "execution_count": null,
   "id": "3411c3da-686e-40f7-9c1d-6e0f6121b0ae",
   "metadata": {},
   "outputs": [],
   "source": [
    "master_session = cc.database.create_session()\n",
    "\n",
    "control = '01deg_jra55v13_ryf9091'\n",
    "\n",
    "# temperature of meltwater at the freezing point calculated with the in situ salinity:\n",
    "Tfreezing_insituS = 'accessom2-GPC001'\n",
    "# temperature of meltwater at the freezing point calculated with the 0 salinity:\n",
    "Tfreezing_zeroS = 'accessom2-GPC002'\n",
    "# temperature of meltwater equal to the minimum of the above two temperatures:\n",
    "Tfreezing_min = 'accessom2-GPC003'\n",
    "\n",
    "start_time='2150-01-01'\n",
    "end_time='2154-12-31'\n",
    "\n",
    "lat_slice  = slice(-80,-59)\n"
   ]
  },
  {
   "cell_type": "code",
   "execution_count": null,
   "id": "f7c992ed-9bb3-42ce-a6ec-c209ea6936e4",
   "metadata": {},
   "outputs": [],
   "source": [
    "# build database for these experiments:\n",
    "session_name = '/g/data/e14/pc5520/model_data/access-om2/basal_melt_MOM5/basal_melt_MOM5.db'\n",
    "basal_melt_session = cc.database.create_session(session_name)\n",
    "\n",
    "dir_list = ['/g/data/e14/pc5520/access-om2/archive/01deg_jra55v13_ryf9091_rerun_for_easterlies/accessom2-GPC001/',\n",
    "           '/g/data/e14/pc5520/access-om2/archive/01deg_jra55v13_ryf9091_rerun_for_easterlies/accessom2-GPC002/',\n",
    "           '/g/data/e14/pc5520/access-om2/archive/01deg_jra55v13_ryf9091_rerun_for_easterlies/accessom2-GPC003/',]\n",
    "cc.database.build_index(dir_list,basal_melt_session)"
   ]
  },
  {
   "cell_type": "code",
   "execution_count": null,
   "id": "989169e7-1fc1-4b06-b7d8-190c1194a1f4",
   "metadata": {},
   "outputs": [],
   "source": [
    "# topography data for plotting:\n",
    "ht = cc.querying.getvar(control,'ht' , master_session,n=1).sel(yt_ocean=lat_slice)\n",
    "land_mask = np.squeeze(ht.values)*0\n",
    "land_mask[np.isnan(land_mask)] = 1\n",
    "land_mask = np.where(land_mask==1,land_mask,np.nan)\n",
    "land_mask_masked = np.ma.masked_where((land_mask==0),land_mask)\n",
    "# make land go all the way to -90S:\n",
    "land_mask_lat = ht.yt_ocean.values\n",
    "land_mask_lat[0] = -90\n",
    "\n",
    "fontsize=15"
   ]
  },
  {
   "cell_type": "code",
   "execution_count": 9,
   "id": "423d8da4-991c-4df8-8be4-27d239067005",
   "metadata": {},
   "outputs": [],
   "source": [
    "# Import salinity"
   ]
  },
  {
   "cell_type": "code",
   "execution_count": null,
   "id": "048f51e9-bdb0-4494-90a3-f82ed2052fac",
   "metadata": {},
   "outputs": [],
   "source": [
    "salt_con = cc.querying.getvar(control, 'salt', master_session, frequency='1 monthly',start_time=start_time, end_time=end_time)\n",
    "salt_con = salt_con.sel(time=slice(start_time,end_time)).sel(yt_ocean=lat_slice)\n",
    "salt_con = salt_con.sum('yt_ocean').sum('xt_ocean').load()\n",
    "\n",
    "salt_Tfreezing_insituS = cc.querying.getvar(Tfreezing_insituS, 'salt', basal_melt_session, frequency='1 monthly',start_time=start_time, end_time=end_time)\n",
    "salt_Tfreezing_insituS = salt_Tfreezing_insituS.sel(time=slice(start_time,end_time)).sel(yt_ocean=lat_slice)\n",
    "salt_Tfreezing_insituS = salt_Tfreezing_insituS.sum('yt_ocean').sum('xt_ocean').load()\n",
    "\n",
    "salt_Tfreezing_zeroS = cc.querying.getvar(Tfreezing_zeroS, 'salt', basal_melt_session, frequency='1 monthly',start_time=start_time, end_time=end_time)\n",
    "salt_Tfreezing_zeroS = salt_Tfreezing_zeroS.sel(time=slice(start_time,end_time)).sel(yt_ocean=lat_slice)\n",
    "salt_Tfreezing_zeroS = salt_Tfreezing_zeroS.sum('yt_ocean').sum('xt_ocean').load()\n",
    "\n",
    "salt_Tfreezing_min = cc.querying.getvar(Tfreezing_min, 'salt', basal_melt_session, frequency='1 monthly',start_time=start_time, end_time=end_time)\n",
    "salt_Tfreezing_min = salt_Tfreezing_min.sel(time=slice(start_time,end_time)).sel(yt_ocean=lat_slice)\n",
    "salt_Tfreezing_min = salt_Tfreezing_min.sum('yt_ocean').sum('xt_ocean').load()"
   ]
  },
  {
   "cell_type": "code",
   "execution_count": null,
   "id": "c1f14f3f-e9a8-423a-ac21-3354d12627ea",
   "metadata": {},
   "outputs": [],
   "source": [
    "salt_con"
   ]
  },
  {
   "cell_type": "code",
   "execution_count": null,
   "id": "ba5a12ee-9b99-4e4e-a5e4-24f24e2dd0a5",
   "metadata": {},
   "outputs": [],
   "source": []
  },
  {
   "cell_type": "code",
   "execution_count": null,
   "id": "972b4b37-b1a7-4394-8f0a-e514b17e82e5",
   "metadata": {},
   "outputs": [],
   "source": []
  }
 ],
 "metadata": {
  "kernelspec": {
   "display_name": "Python 3 (ipykernel)",
   "language": "python",
   "name": "python3"
  },
  "language_info": {
   "codemirror_mode": {
    "name": "ipython",
    "version": 3
   },
   "file_extension": ".py",
   "mimetype": "text/x-python",
   "name": "python",
   "nbconvert_exporter": "python",
   "pygments_lexer": "ipython3",
   "version": "3.9.13"
  }
 },
 "nbformat": 4,
 "nbformat_minor": 5
}
