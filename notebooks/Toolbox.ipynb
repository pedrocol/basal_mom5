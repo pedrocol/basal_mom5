{
 "cells": [
  {
   "cell_type": "code",
   "execution_count": 17,
   "id": "9be47afa-b6b2-4344-9ec1-9cefccc925a8",
   "metadata": {},
   "outputs": [],
   "source": [
    "import subprocess\n",
    "\n",
    "def set_variables(conf,year,var,freq):\n",
    "    ##################################################################################################\n",
    "    #Init values\n",
    "    ##################################################################################################\n",
    "    conf=\"acces-om2-01-GPC002\"\n",
    "    year=2150\n",
    "    var='temp'\n",
    "    freq=2 #1 daily, 2 monthly\n",
    "    if conf == \"acces-om2-01-GAM001\":\n",
    "        if year == 2150:\n",
    "          outini=996\n",
    "          outfin=999\n",
    "        elif year == 2151:\n",
    "          outini=1000\n",
    "          outfin=1003\n",
    "        root_data=\"/g/data/ik11/outputs/access-om2-01/01deg_jra55v13_ryf9091_rerun_for_easterlies/\"\n",
    "    elif conf == \"acces-om2-01-GPC001\":\n",
    "        outini=996\n",
    "        outfin=1001\n",
    "        root_data=\"/home/552/pc5520/access-om2/control/01deg_jra55v13_ryf9091_rerun_for_easterlies/archive/accessom2-GPC001\"\n",
    "    elif conf == \"acces-om2-01-GPC002\":\n",
    "        outini=996\n",
    "        outfin=1006\n",
    "        root_data=\"/home/552/pc5520/access-om2/control/01deg_jra55v13_ryf9091_rerun_for_easterlies/archive/accessom2-GPC002\"\n",
    "    elif conf == \"acces-om2-01-GPC003\":\n",
    "        if year == 2150:\n",
    "          outini=996\n",
    "          outfin=1002\n",
    "        elif year == 2151:\n",
    "           outini=1003\n",
    "           outfin=1008\n",
    "        root_data=\"/home/552/pc5520/access-om2/control/01deg_jra55v13_ryf9091_rerun_for_easterlies/archive/accessom2-GPC003\"\n",
    "\n",
    "    if freq == 1:\n",
    "        filename=\"rregionocean_daily_3d_\"+str(var)+\".nc\"\n",
    "    elif freq == 2:\n",
    "        filename=\"ocean.nc\"\n",
    "    \n",
    "    return outini,outfin,filename,root_data\n"
   ]
  },
  {
   "cell_type": "code",
   "execution_count": 18,
   "id": "0ab86aa0-e8bc-43f9-88ac-9cd1a976a9f9",
   "metadata": {},
   "outputs": [
    {
     "ename": "NameError",
     "evalue": "name 'ncdump' is not defined",
     "output_type": "error",
     "traceback": [
      "\u001b[0;31m---------------------------------------------------------------------------\u001b[0m",
      "\u001b[0;31mNameError\u001b[0m                                 Traceback (most recent call last)",
      "\u001b[0;32m/jobfs/50897209.gadi-pbs/ipykernel_1090059/1918262836.py\u001b[0m in \u001b[0;36m<module>\u001b[0;34m\u001b[0m\n\u001b[0;32m----> 1\u001b[0;31m \u001b[0mncdump\u001b[0m\u001b[0;34m\u001b[0m\u001b[0;34m\u001b[0m\u001b[0m\n\u001b[0m",
      "\u001b[0;31mNameError\u001b[0m: name 'ncdump' is not defined"
     ]
    }
   ],
   "source": [
    "ncdump"
   ]
  },
  {
   "cell_type": "code",
   "execution_count": 19,
   "id": "171cfd53-bb69-4b40-b556-05a47bca902a",
   "metadata": {},
   "outputs": [],
   "source": [
    "import subprocess"
   ]
  },
  {
   "cell_type": "code",
   "execution_count": 20,
   "id": "b4d8b6f4-ce45-4f9c-9896-2cefe035b8a4",
   "metadata": {},
   "outputs": [
    {
     "ename": "NameError",
     "evalue": "name 'ncdump' is not defined",
     "output_type": "error",
     "traceback": [
      "\u001b[0;31m---------------------------------------------------------------------------\u001b[0m",
      "\u001b[0;31mNameError\u001b[0m                                 Traceback (most recent call last)",
      "\u001b[0;32m/jobfs/50897209.gadi-pbs/ipykernel_1090059/713067478.py\u001b[0m in \u001b[0;36m<module>\u001b[0;34m\u001b[0m\n\u001b[0;32m----> 1\u001b[0;31m \u001b[0msubprocess\u001b[0m\u001b[0;34m.\u001b[0m\u001b[0mcall\u001b[0m\u001b[0;34m(\u001b[0m\u001b[0mncdump\u001b[0m\u001b[0;34m)\u001b[0m\u001b[0;34m\u001b[0m\u001b[0;34m\u001b[0m\u001b[0m\n\u001b[0m",
      "\u001b[0;31mNameError\u001b[0m: name 'ncdump' is not defined"
     ]
    }
   ],
   "source": [
    "subprocess.call(ncdump)"
   ]
  },
  {
   "cell_type": "code",
   "execution_count": null,
   "id": "54e74774-0f19-4b2f-a6d8-4d139012cad2",
   "metadata": {},
   "outputs": [],
   "source": []
  }
 ],
 "metadata": {
  "kernelspec": {
   "display_name": "Python 3 (ipykernel)",
   "language": "python",
   "name": "python3"
  },
  "language_info": {
   "codemirror_mode": {
    "name": "ipython",
    "version": 3
   },
   "file_extension": ".py",
   "mimetype": "text/x-python",
   "name": "python",
   "nbconvert_exporter": "python",
   "pygments_lexer": "ipython3",
   "version": "3.9.13"
  }
 },
 "nbformat": 4,
 "nbformat_minor": 5
}
